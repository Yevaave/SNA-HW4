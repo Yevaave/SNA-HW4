{
 "cells": [
  {
   "cell_type": "markdown",
   "metadata": {},
   "source": [
    "# Marketing Analytics: Social Network Analysis\n",
    "\n",
    "## Overview\n",
    "This project involves analyzing a dataset of connections to identify key individuals for targeted marketing efforts. The goal is to optimize marketing strategies within a limited budget by focusing on influential nodes in a directed graph.\n",
    "\n",
    "## Data\n",
    "The dataset, `connections.txt`, is a list of edges representing connections between individuals.\n",
    "\n",
    "## Tasks\n",
    "\n",
    "### 1. Create a Directed Graph\n",
    "- Use the provided data to construct a directed graph.\n",
    "\n",
    "### 2. Identify Bridges\n",
    "- Identify and display nodes that act as bridges in the graph.\n",
    "\n",
    "### 3. Graph Density\n",
    "- Calculate and show the density of the graph.\n",
    "- Comment on the findings based on the density measure.\n",
    "\n",
    "### 4. Node Connections\n",
    "- Identify nodes with the highest and lowest number of connections.\n",
    "\n",
    "### 5. Incoming and Outgoing Connections\n",
    "- Identify nodes with the highest incoming and outgoing connections.\n",
    "\n",
    "### 6. Centrality Measures\n",
    "- Calculate and display nodes with the highest closeness, betweenness, and eigenvector centrality.\n",
    "- Interpret the findings based on these centrality measures.\n",
    "\n",
    "### 7. Community Detection\n",
    "- Implement a community detection algorithm on the directed graph.\n",
    "- Display the number of communities created.\n",
    "\n",
    "### 8. Largest and Smallest Community\n",
    "- Identify and display the largest and smallest communities.\n",
    "- Interpret findings based on community sizes.\n",
    "\n",
    "### 9. Top Three Communities\n",
    "- Select the largest three communities and draw them.\n",
    "- Remove the top three nodes with the highest centrality measures (Degree, Closeness, Betweenness, Eigenvector) for each community.\n",
    "\n",
    "### 10. Influencers of Top Three Communities\n",
    "- Draw the influencers of the top three communities.\n",
    "\n",
    "### 11. Action Plan\n",
    "- Define a hypothetical business scenario (e.g., telecom, marketing agency).\n",
    "- Specify a hypothetical marketing budget and cost per action.\n",
    "- Determine target nodes based on the analysis.\n",
    "\n"
   ]
  }
 ],
 "metadata": {
  "kernelspec": {
   "display_name": "Python 3",
   "language": "python",
   "name": "python3"
  },
  "language_info": {
   "codemirror_mode": {
    "name": "ipython",
    "version": 3
   },
   "file_extension": ".py",
   "mimetype": "text/x-python",
   "name": "python",
   "nbconvert_exporter": "python",
   "pygments_lexer": "ipython3",
   "version": "3.8.5"
  }
 },
 "nbformat": 4,
 "nbformat_minor": 4
}
